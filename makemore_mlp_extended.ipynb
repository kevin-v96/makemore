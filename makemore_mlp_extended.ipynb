{
 "cells": [
  {
   "cell_type": "code",
   "execution_count": 1,
   "metadata": {},
   "outputs": [],
   "source": [
    "import torch\n",
    "import torch.nn.functional as F\n",
    "import matplotlib.pyplot as plt # for making figures\n",
    "%matplotlib inline"
   ]
  },
  {
   "cell_type": "code",
   "execution_count": 2,
   "metadata": {},
   "outputs": [
    {
     "data": {
      "text/plain": [
       "['emma', 'olivia', 'ava', 'isabella', 'sophia', 'charlotte', 'mia', 'amelia']"
      ]
     },
     "execution_count": 2,
     "metadata": {},
     "output_type": "execute_result"
    }
   ],
   "source": [
    "# read in all the words\n",
    "words = open('names.txt', 'r').read().splitlines()\n",
    "words[:8]"
   ]
  },
  {
   "cell_type": "code",
   "execution_count": 3,
   "metadata": {},
   "outputs": [
    {
     "name": "stdout",
     "output_type": "stream",
     "text": [
      "{1: 'a', 2: 'b', 3: 'c', 4: 'd', 5: 'e', 6: 'f', 7: 'g', 8: 'h', 9: 'i', 10: 'j', 11: 'k', 12: 'l', 13: 'm', 14: 'n', 15: 'o', 16: 'p', 17: 'q', 18: 'r', 19: 's', 20: 't', 21: 'u', 22: 'v', 23: 'w', 24: 'x', 25: 'y', 26: 'z', 0: '.'}\n",
      "27\n"
     ]
    }
   ],
   "source": [
    "# build the vocabulary of characters and mappings to/from integers\n",
    "chars = sorted(list(set(''.join(words))))\n",
    "stoi = {s:i+1 for i,s in enumerate(chars)}\n",
    "stoi['.'] = 0\n",
    "itos = {i:s for s,i in stoi.items()}\n",
    "vocab_size = len(itos)\n",
    "print(itos)\n",
    "print(vocab_size)"
   ]
  },
  {
   "cell_type": "code",
   "execution_count": 4,
   "metadata": {},
   "outputs": [
    {
     "name": "stdout",
     "output_type": "stream",
     "text": [
      "torch.Size([182625, 3]) torch.Size([182625])\n",
      "torch.Size([22655, 3]) torch.Size([22655])\n",
      "torch.Size([22866, 3]) torch.Size([22866])\n"
     ]
    }
   ],
   "source": [
    "# build the dataset\n",
    "block_size = 3 # context length: how many characters do we take to predict the next one?\n",
    "\n",
    "def build_dataset(words):  \n",
    "  X, Y = [], []\n",
    "  \n",
    "  for w in words:\n",
    "    context = [0] * block_size\n",
    "    for ch in w + '.':\n",
    "      ix = stoi[ch]\n",
    "      X.append(context)\n",
    "      Y.append(ix)\n",
    "      context = context[1:] + [ix] # crop and append\n",
    "\n",
    "  X = torch.tensor(X)\n",
    "  Y = torch.tensor(Y)\n",
    "  print(X.shape, Y.shape)\n",
    "  return X, Y\n",
    "\n",
    "import random\n",
    "random.seed(42)\n",
    "random.shuffle(words)\n",
    "n1 = int(0.8*len(words))\n",
    "n2 = int(0.9*len(words))\n",
    "\n",
    "Xtr,  Ytr  = build_dataset(words[:n1])     # 80%\n",
    "Xdev, Ydev = build_dataset(words[n1:n2])   # 10%\n",
    "Xte,  Yte  = build_dataset(words[n2:])     # 10%"
   ]
  },
  {
   "cell_type": "code",
   "execution_count": 14,
   "metadata": {},
   "outputs": [
    {
     "name": "stdout",
     "output_type": "stream",
     "text": [
      "11897\n"
     ]
    }
   ],
   "source": [
    "#MLP code from makemore 1.0\n",
    "n_embd = 10\n",
    "n_hidden = 200\n",
    "\n",
    "g = torch.Generator().manual_seed(42)\n",
    "C = torch.randn((vocab_size, n_embd), generator=g)\n",
    "W1 = torch.randn((n_embd * block_size, n_hidden), generator = g)\n",
    "b1 = torch.randn(n_hidden, generator=g)\n",
    "W2 = torch.randn((n_hidden, vocab_size), generator = g) * 0.01\n",
    "b2 = torch.randn(vocab_size, generator=g) * 0\n",
    "parameters = [C, W1, b1, W2, b2]\n",
    "for p in parameters:\n",
    "    p.requires_grad = True\n",
    "print(sum(p.nelement() for p in parameters))"
   ]
  },
  {
   "cell_type": "code",
   "execution_count": 15,
   "metadata": {},
   "outputs": [
    {
     "name": "stdout",
     "output_type": "stream",
     "text": [
      "      0/ 200000: 3.3047\n"
     ]
    }
   ],
   "source": [
    "max_steps = 200000\n",
    "batch_size = 32\n",
    "lossi = []\n",
    "\n",
    "for i in range(max_steps):\n",
    "    #construct minibatch\n",
    "    ix = torch.randint(0, Xtr.shape[0], (batch_size,),generator=g)\n",
    "    Xb, Yb = Xtr[ix], Ytr[ix]\n",
    "\n",
    "    #forward pass\n",
    "    emb = C[Xb] #embed the characters into vectors\n",
    "    embcat = emb.view(emb.shape[0], -1) #concatenate the vectors for the multiple characters that we're taking for the context\n",
    "    hpreact = embcat @ W1 + b1 #hidden layer pre-activation\n",
    "    h = torch.tanh(hpreact) #hidden layer\n",
    "    logits = h @ W2 + b2 #output layer\n",
    "    loss = F.cross_entropy(logits, Yb) \n",
    "\n",
    "    #backward pass\n",
    "    for p in parameters:\n",
    "        p.grad = None\n",
    "    loss.backward()\n",
    "\n",
    "    #update\n",
    "    lr = 1e-1\n",
    "    for p in parameters:\n",
    "        p.data += -lr * p.grad\n",
    "\n",
    "    #track stats\n",
    "    if i % 10000 == 0:\n",
    "        print(f'{i:7d}/{max_steps:7d}: {loss.item():.4f}')\n",
    "    lossi.append(loss.log10().item())    \n",
    "\n",
    "    break"
   ]
  },
  {
   "cell_type": "code",
   "execution_count": 16,
   "metadata": {},
   "outputs": [
    {
     "data": {
      "text/plain": [
       "(array([2369.,  165.,   91.,   64.,   51.,   44.,   36.,   35.,   27.,\n",
       "          24.,   24.,   25.,   22.,   20.,   28.,   18.,   23.,   15.,\n",
       "          17.,   21.,   21.,   18.,    9.,   16.,   21.,   22.,   21.,\n",
       "          21.,   20.,   14.,    9.,   16.,   17.,   16.,   25.,   28.,\n",
       "          17.,   16.,   19.,   25.,   27.,   28.,   31.,   26.,   42.,\n",
       "          48.,   60.,   69.,  153., 2426.]),\n",
       " array([-1.  , -0.96, -0.92, -0.88, -0.84, -0.8 , -0.76, -0.72, -0.68,\n",
       "        -0.64, -0.6 , -0.56, -0.52, -0.48, -0.44, -0.4 , -0.36, -0.32,\n",
       "        -0.28, -0.24, -0.2 , -0.16, -0.12, -0.08, -0.04,  0.  ,  0.04,\n",
       "         0.08,  0.12,  0.16,  0.2 ,  0.24,  0.28,  0.32,  0.36,  0.4 ,\n",
       "         0.44,  0.48,  0.52,  0.56,  0.6 ,  0.64,  0.68,  0.72,  0.76,\n",
       "         0.8 ,  0.84,  0.88,  0.92,  0.96,  1.  ]),\n",
       " <BarContainer object of 50 artists>)"
      ]
     },
     "execution_count": 16,
     "metadata": {},
     "output_type": "execute_result"
    },
    {
     "data": {
      "image/png": "[encoded data removed]",
      "text/plain": [
       "<Figure size 640x480 with 1 Axes>"
      ]
     },
     "metadata": {},
     "output_type": "display_data"
    }
   ],
   "source": [
    "plt.hist(h.view(-1).tolist(), 50)"
   ]
  },
  {
   "cell_type": "code",
   "execution_count": 18,
   "metadata": {},
   "outputs": [
    {
     "data": {
      "text/plain": [
       "(array([  1.,   3.,   2.,   2.,   7.,   3.,  12.,   9.,  17.,  24.,  52.,\n",
       "         74.,  91., 101., 127., 155., 214., 235., 292., 326., 325., 393.,\n",
       "        409., 414., 356., 364., 407., 345., 333., 255., 194., 202., 164.,\n",
       "        109.,  85.,  72.,  53.,  48.,  38.,  33.,  13.,  20.,   7.,   3.,\n",
       "          7.,   1.,   1.,   0.,   1.,   1.]),\n",
       " array([-22.45796967, -21.51564533, -20.573321  , -19.63099667,\n",
       "        -18.68867233, -17.746348  , -16.80402367, -15.86169933,\n",
       "        -14.919375  , -13.97705067, -13.03472633, -12.092402  ,\n",
       "        -11.15007767, -10.20775333,  -9.265429  ,  -8.32310467,\n",
       "         -7.38078033,  -6.438456  ,  -5.49613167,  -4.55380733,\n",
       "         -3.611483  ,  -2.66915867,  -1.72683434,  -0.78451   ,\n",
       "          0.15781433,   1.10013866,   2.042463  ,   2.98478733,\n",
       "          3.92711166,   4.869436  ,   5.81176033,   6.75408466,\n",
       "          7.696409  ,   8.63873333,   9.58105766,  10.523382  ,\n",
       "         11.46570633,  12.40803066,  13.350355  ,  14.29267933,\n",
       "         15.23500366,  16.177328  ,  17.11965233,  18.06197666,\n",
       "         19.00430099,  19.94662533,  20.88894966,  21.83127399,\n",
       "         22.77359833,  23.71592266,  24.65824699]),\n",
       " <BarContainer object of 50 artists>)"
      ]
     },
     "execution_count": 18,
     "metadata": {},
     "output_type": "execute_result"
    },
    {
     "data": {
      "image/png": "[encoded data removed]",
      "text/plain": [
       "<Figure size 640x480 with 1 Axes>"
      ]
     },
     "metadata": {},
     "output_type": "display_data"
    }
   ],
   "source": [
    "plt.hist(hpreact.view(-1).tolist(), 50)"
   ]
  },
  {
   "cell_type": "markdown",
   "metadata": {},
   "source": [
    "Most of our tanh outputs are -1 or 1, which might be squashing our gradient passing through the tanh neuron"
   ]
  },
  {
   "cell_type": "code",
   "execution_count": 17,
   "metadata": {},
   "outputs": [
    {
     "data": {
      "text/plain": [
       "<matplotlib.image.AxesImage at 0x144d90710>"
      ]
     },
     "execution_count": 17,
     "metadata": {},
     "output_type": "execute_result"
    },
    {
     "data": {
      "image/png": "[encoded data removed]",
      "text/plain": [
       "<Figure size 2000x1000 with 1 Axes>"
      ]
     },
     "metadata": {},
     "output_type": "display_data"
    }
   ],
   "source": [
    "plt.figure(figsize=(20,10))\n",
    "plt.imshow(h.abs() > 0.99, cmap = 'gray', interpolation= 'nearest')"
   ]
  },
  {
   "cell_type": "markdown",
   "metadata": {},
   "source": [
    "The backward gradient gets destroyed for all the neurons here which are white, but we don't have any dead neurons (completely white column)"
   ]
  },
  {
   "cell_type": "code",
   "execution_count": 33,
   "metadata": {},
   "outputs": [
    {
     "name": "stdout",
     "output_type": "stream",
     "text": [
      "12297\n"
     ]
    }
   ],
   "source": [
    "#MLP code from makemore 1.0\n",
    "n_embd = 10\n",
    "n_hidden = 200\n",
    "\n",
    "g = torch.Generator().manual_seed(42)\n",
    "C = torch.randn((vocab_size, n_embd), generator=g)\n",
    "W1 = torch.randn((n_embd * block_size, n_hidden), generator = g) * (5/3) / ((n_embd * block_size)**0.5) #kaiming normal initialisation\n",
    "#b1 = torch.randn(n_hidden, generator=g) *0.01  batch normalisation makes this useless\n",
    "W2 = torch.randn((n_hidden, vocab_size), generator = g) * 0.01\n",
    "b2 = torch.randn(vocab_size, generator=g) * 0\n",
    "\n",
    "batch_normalization_gain = torch.ones((1,n_hidden))\n",
    "batch_normalization_bias = torch.zeros((1,n_hidden))\n",
    "bnmean_running = torch.zeros((1,n_hidden))\n",
    "bnstd_running = torch.ones((1,n_hidden))\n",
    "\n",
    "parameters = [C, W1, W2, b2, batch_normalization_gain, batch_normalization_bias]\n",
    "for p in parameters:\n",
    "    p.requires_grad = True\n",
    "print(sum(p.nelement() for p in parameters))"
   ]
  },
  {
   "cell_type": "code",
   "execution_count": 31,
   "metadata": {},
   "outputs": [
    {
     "data": {
      "text/plain": [
       "torch.Size([1, 200])"
      ]
     },
     "execution_count": 31,
     "metadata": {},
     "output_type": "execute_result"
    }
   ],
   "source": [
    "hpreact.mean(0, keepdim=True).shape"
   ]
  },
  {
   "cell_type": "code",
   "execution_count": 32,
   "metadata": {},
   "outputs": [
    {
     "data": {
      "text/plain": [
       "torch.Size([1, 200])"
      ]
     },
     "execution_count": 32,
     "metadata": {},
     "output_type": "execute_result"
    }
   ],
   "source": [
    "hpreact.std(0, keepdim=True).shape"
   ]
  },
  {
   "cell_type": "code",
   "execution_count": 34,
   "metadata": {},
   "outputs": [
    {
     "name": "stdout",
     "output_type": "stream",
     "text": [
      "      0/ 200000: 3.3149\n",
      "  10000/ 200000: 2.3311\n",
      "  20000/ 200000: 2.4343\n",
      "  30000/ 200000: 2.0402\n",
      "  40000/ 200000: 2.1428\n",
      "  50000/ 200000: 1.8935\n",
      "  60000/ 200000: 2.1852\n",
      "  70000/ 200000: 2.4852\n",
      "  80000/ 200000: 2.2232\n",
      "  90000/ 200000: 1.9615\n",
      " 100000/ 200000: 2.0917\n",
      " 110000/ 200000: 2.2423\n",
      " 120000/ 200000: 2.1161\n",
      " 130000/ 200000: 2.2129\n",
      " 140000/ 200000: 2.0319\n",
      " 150000/ 200000: 2.2720\n",
      " 160000/ 200000: 2.3426\n",
      " 170000/ 200000: 1.8352\n",
      " 180000/ 200000: 2.6085\n",
      " 190000/ 200000: 2.0985\n"
     ]
    }
   ],
   "source": [
    "max_steps = 200000\n",
    "batch_size = 32\n",
    "lossi = []\n",
    "\n",
    "for i in range(max_steps):\n",
    "    #construct minibatch\n",
    "    ix = torch.randint(0, Xtr.shape[0], (batch_size,),generator=g)\n",
    "    Xb, Yb = Xtr[ix], Ytr[ix]\n",
    "\n",
    "    #forward pass\n",
    "    emb = C[Xb] #embed the characters into vectors\n",
    "    embcat = emb.view(emb.shape[0], -1) #concatenate the vectors for the multiple characters that we're taking for the context\n",
    "    hpreact = embcat @ W1 #+ b1 #hidden layer pre-activation - batch normalisation makes the bias useless\n",
    "    bnmeani = hpreact.mean(0, keepdim=True)\n",
    "    bnstdi = hpreact.std(0, keepdim=True)\n",
    "    #batch normalisation is usually used after layers that have multiplications that make the distribution not gaussian/normal. e.g., convolutional or linear layers\n",
    "    hpreact = batch_normalization_gain *  (hpreact - bnmeani) / bnstdi + batch_normalization_bias\n",
    "    with torch.no_grad():\n",
    "        bnmean_running = 0.999 * bnmean_running + 0.001 * bnmeani\n",
    "        bnstd_running = 0.999 * bnstd_running + 0.001 * bnstd_running\n",
    "\n",
    "    h = torch.tanh(hpreact) #hidden layer\n",
    "    logits = h @ W2 + b2 #output layer\n",
    "    loss = F.cross_entropy(logits, Yb) \n",
    "\n",
    "    #backward pass\n",
    "    for p in parameters:\n",
    "        p.grad = None\n",
    "    loss.backward()\n",
    "\n",
    "    #update\n",
    "    lr = 1e-1\n",
    "    for p in parameters:\n",
    "        p.data += -lr * p.grad\n",
    "\n",
    "    #track stats\n",
    "    if i % 10000 == 0:\n",
    "        print(f'{i:7d}/{max_steps:7d}: {loss.item():.4f}')\n",
    "    lossi.append(loss.log10().item())    "
   ]
  },
  {
   "cell_type": "code",
   "execution_count": 37,
   "metadata": {},
   "outputs": [],
   "source": [
    "#calibrate the batch norm at the end of training - we don't need to do this in a separate stage - the running mean and standard deviation above also work \n",
    "with torch.no_grad():\n",
    "    emb = C[Xtr] #pass the training set through\n",
    "    embcat = emb.view(emb.shape[0], -1)\n",
    "    hpreact = embcat @ W1 + b1\n",
    "    #measure the mean/std over the entire training set\n",
    "    bnmean = hpreact.mean(0, keepdim=True)\n",
    "    bnstd = hpreact.std(0, keepdim=True)"
   ]
  },
  {
   "cell_type": "code",
   "execution_count": 26,
   "metadata": {},
   "outputs": [
    {
     "data": {
      "text/plain": [
       "(array([319., 244., 215., 174., 167., 151., 127., 130., 120., 134., 111.,\n",
       "        103., 124., 111.,  81., 106.,  64.,  90.,  87.,  99.,  81.,  85.,\n",
       "        103.,  76.,  83.,  82.,  81.,  77.,  83.,  90.,  83.,  75.,  80.,\n",
       "        101., 108., 107., 115., 110., 118.,  86., 115., 129., 132., 150.,\n",
       "        157., 151., 169., 234., 231., 351.]),\n",
       " array([-9.99571502e-01, -9.59583131e-01, -9.19594760e-01, -8.79606389e-01,\n",
       "        -8.39618018e-01, -7.99629647e-01, -7.59641275e-01, -7.19652904e-01,\n",
       "        -6.79664533e-01, -6.39676162e-01, -5.99687791e-01, -5.59699420e-01,\n",
       "        -5.19711049e-01, -4.79722677e-01, -4.39734306e-01, -3.99745935e-01,\n",
       "        -3.59757564e-01, -3.19769193e-01, -2.79780822e-01, -2.39792451e-01,\n",
       "        -1.99804080e-01, -1.59815708e-01, -1.19827337e-01, -7.98389661e-02,\n",
       "        -3.98505950e-02,  1.37776136e-04,  4.01261473e-02,  8.01145184e-02,\n",
       "         1.20102890e-01,  1.60091261e-01,  2.00079632e-01,  2.40068003e-01,\n",
       "         2.80056374e-01,  3.20044745e-01,  3.60033116e-01,  4.00021487e-01,\n",
       "         4.40009859e-01,  4.79998230e-01,  5.19986601e-01,  5.59974972e-01,\n",
       "         5.99963343e-01,  6.39951714e-01,  6.79940085e-01,  7.19928457e-01,\n",
       "         7.59916828e-01,  7.99905199e-01,  8.39893570e-01,  8.79881941e-01,\n",
       "         9.19870312e-01,  9.59858683e-01,  9.99847054e-01]),\n",
       " <BarContainer object of 50 artists>)"
      ]
     },
     "execution_count": 26,
     "metadata": {},
     "output_type": "execute_result"
    },
    {
     "data": {
      "image/png": "[encoded data removed]",
      "text/plain": [
       "<Figure size 640x480 with 1 Axes>"
      ]
     },
     "metadata": {},
     "output_type": "display_data"
    }
   ],
   "source": [
    "plt.hist(h.view(-1).tolist(), 50)"
   ]
  },
  {
   "cell_type": "code",
   "execution_count": 27,
   "metadata": {},
   "outputs": [
    {
     "data": {
      "text/plain": [
       "(array([  4.,   2.,   2.,   5.,   5.,   9.,  11.,  18.,  22.,  39.,  67.,\n",
       "         86.,  76., 106., 165., 196., 195., 255., 285., 332., 378., 323.,\n",
       "        388., 378., 352., 387., 373., 305., 310., 265., 195., 202., 164.,\n",
       "        105.,  91.,  72.,  52.,  43.,  47.,  30.,  26.,  11.,   5.,   6.,\n",
       "          6.,   2.,   2.,   0.,   0.,   2.]),\n",
       " array([-4.224051  , -4.04478444, -3.86551788, -3.68625133, -3.50698477,\n",
       "        -3.32771821, -3.14845165, -2.96918509, -2.78991854, -2.61065198,\n",
       "        -2.43138542, -2.25211886, -2.07285231, -1.89358575, -1.71431919,\n",
       "        -1.53505263, -1.35578608, -1.17651952, -0.99725296, -0.8179864 ,\n",
       "        -0.63871984, -0.45945329, -0.28018673, -0.10092017,  0.07834639,\n",
       "         0.25761294,  0.4368795 ,  0.61614606,  0.79541262,  0.97467917,\n",
       "         1.15394573,  1.33321229,  1.51247885,  1.69174541,  1.87101196,\n",
       "         2.05027852,  2.22954508,  2.40881164,  2.58807819,  2.76734475,\n",
       "         2.94661131,  3.12587787,  3.30514442,  3.48441098,  3.66367754,\n",
       "         3.8429441 ,  4.02221066,  4.20147721,  4.38074377,  4.56001033,\n",
       "         4.73927689]),\n",
       " <BarContainer object of 50 artists>)"
      ]
     },
     "execution_count": 27,
     "metadata": {},
     "output_type": "execute_result"
    },
    {
     "data": {
      "image/png": "[encoded data removed]",
      "text/plain": [
       "<Figure size 640x480 with 1 Axes>"
      ]
     },
     "metadata": {},
     "output_type": "display_data"
    }
   ],
   "source": [
    "plt.hist(hpreact.view(-1).tolist(), 50)"
   ]
  },
  {
   "cell_type": "code",
   "execution_count": 28,
   "metadata": {},
   "outputs": [
    {
     "data": {
      "text/plain": [
       "<matplotlib.image.AxesImage at 0x150023bf0>"
      ]
     },
     "execution_count": 28,
     "metadata": {},
     "output_type": "execute_result"
    },
    {
     "data": {
      "image/png": "[encoded data removed]",
      "text/plain": [
       "<Figure size 2000x1000 with 1 Axes>"
      ]
     },
     "metadata": {},
     "output_type": "display_data"
    }
   ],
   "source": [
    "plt.figure(figsize=(20,10))\n",
    "plt.imshow(h.abs() > 0.99, cmap = 'gray', interpolation= 'nearest')"
   ]
  },
  {
   "cell_type": "code",
   "execution_count": 11,
   "metadata": {},
   "outputs": [
    {
     "data": {
      "text/plain": [
       "[<matplotlib.lines.Line2D at 0x144fd6d20>]"
      ]
     },
     "execution_count": 11,
     "metadata": {},
     "output_type": "execute_result"
    },
    {
     "data": {
      "image/png": "[encoded data removed]",
      "text/plain": [
       "<Figure size 640x480 with 1 Axes>"
      ]
     },
     "metadata": {},
     "output_type": "display_data"
    }
   ],
   "source": [
    "plt.plot(lossi)"
   ]
  },
  {
   "cell_type": "code",
   "execution_count": 38,
   "metadata": {},
   "outputs": [
    {
     "name": "stdout",
     "output_type": "stream",
     "text": [
      "train 2.1265270709991455\n",
      "val 2.174251079559326\n"
     ]
    }
   ],
   "source": [
    "@torch.no_grad\n",
    "def split_loss(split):\n",
    "    x, y = {\n",
    "        'train': (Xtr, Ytr),\n",
    "        'val': (Xdev, Ydev),\n",
    "        'test': (Xte, Yte)\n",
    "    }[split]\n",
    "\n",
    "    emb = C[x] #(N, block_size, n_embed)\n",
    "    embcat = emb.view(emb.shape[0], -1) #concat into (N, block_size * n_embed)\n",
    "    hpreact = embcat @ W1 + b1\n",
    "    hpreact = batch_normalization_gain *  (hpreact - bnmean) / bnstd + batch_normalization_bias\n",
    "    h = torch.tanh(hpreact) # (N, n_hidden)\n",
    "    logits = h @ W2 + b2 # (n_hidden, vocal_size)\n",
    "    loss = F.cross_entropy(logits, y)\n",
    "    print(split, loss.item())\n",
    "\n",
    "split_loss('train')\n",
    "split_loss('val')"
   ]
  },
  {
   "cell_type": "code",
   "execution_count": 36,
   "metadata": {},
   "outputs": [
    {
     "name": "stdout",
     "output_type": "stream",
     "text": [
      "trevernvt.\n",
      "smarriquedmitubralikharlenak.\n",
      "mahzim.\n",
      "lnan.\n",
      "jaysleeghakzi.\n",
      "dem.\n",
      "mabdurra.\n",
      "dazlk.\n",
      "miqueyjabduvellisabralchartancephassiquetch.\n",
      "relyth.\n"
     ]
    }
   ],
   "source": [
    "#sample from the model\n",
    "g = torch.Generator().manual_seed(42)\n",
    "for _ in range(10):\n",
    "    out = []\n",
    "    context = [0] * block_size\n",
    "    while True:\n",
    "        emb = C[torch.tensor([context])] #(1,block_size,d)\n",
    "        h = torch.tanh(emb.view(1,-1) @ W1 + b1)\n",
    "        logits = h @ W2 + b2\n",
    "        probs = F.softmax(logits, dim = 1)\n",
    "        ix = torch.multinomial(probs, num_samples=1, generator=g).item()\n",
    "        context = context[1:] + [ix]\n",
    "        out.append(ix)\n",
    "        if ix == 0:\n",
    "            break\n",
    "    print(''.join(itos[i] for i in out))"
   ]
  },
  {
   "cell_type": "markdown",
   "metadata": {},
   "source": [
    "### Torch-ifying the code"
   ]
  },
  {
   "cell_type": "code",
   "execution_count": 41,
   "metadata": {},
   "outputs": [],
   "source": [
    "class Linear:\n",
    "    def __init__(self, fan_in, fan_out, bias = True):\n",
    "        self.weights = torch.randn((fan_in, fan_out), generator=g) / fan_in**0.5 #kaiming normal init\n",
    "        self.bias = torch.zeros(fan_out) if bias else None\n",
    "\n",
    "    def __call__(self, x):\n",
    "        self.out = x @ self.weights\n",
    "        if self.bias is not None:\n",
    "            self.out += self.bias\n",
    "        return self.out\n",
    "    \n",
    "    def parameters(self):\n",
    "        return [self.weights] + ([] if self.bias is None else [self.bias])    \n",
    "    \n",
    "class BatchNorm1d:\n",
    "    def __init__(self, dim, eps = 1e-5, momentum = 0.1):\n",
    "        self.eps = eps\n",
    "        self.momentum = momentum\n",
    "        self.training = True\n",
    "        #parameters (trained with backprop)\n",
    "        self.gamma = torch.ones(dim)\n",
    "        self.beta = torch.zeros(dim)\n",
    "        #buffers (trained with a running momentum update)\n",
    "        self.running_mean = torch.zeros(dim)\n",
    "        self.running_var = torch.ones(dim)\n",
    "\n",
    "    def __call__(self, x):\n",
    "        #forward pass\n",
    "        if self.training:\n",
    "            xmean = x.mean(0, keepdim = True) #batch mean\n",
    "            xvar = x.var(0, keepdim = True) #batch std\n",
    "        else:\n",
    "            xmean = self.running_mean\n",
    "            xvar = self.running_var\n",
    "        xhat = (x - xmean) / torch.sqrt(xvar + self.eps) #normalize to unit variance\n",
    "        self.out = self.gamma * xhat + self.beta\n",
    "        #update the buffers\n",
    "        if self.training:\n",
    "            with torch.no_grad():\n",
    "                self.running_mean = (1 - self.momentum) * self.running_mean + self.momentum * xmean\n",
    "                self.running_var = (1 - self.momentum) * self.running_var + self.momentum * xvar\n",
    "        return self.out\n",
    "    \n",
    "    def parameters(self):\n",
    "        return [self.gamma, self.beta]\n",
    "    \n",
    "class Tanh:\n",
    "    def __call__(self,x):\n",
    "        self.out = torch.tanh(x)\n",
    "        return self.out\n",
    "    def parameters(self):\n",
    "        return []"
   ]
  },
  {
   "cell_type": "code",
   "execution_count": 42,
   "metadata": {},
   "outputs": [
    {
     "name": "stdout",
     "output_type": "stream",
     "text": [
      "46497\n"
     ]
    }
   ],
   "source": [
    "n_embd = 10\n",
    "n_hidden = 100\n",
    "g = torch.Generator().manual_seed(42)\n",
    "\n",
    "C = torch.randn((vocab_size, n_embd), generator=g)\n",
    "layers = [\n",
    "    Linear(n_embd * block_size, n_hidden), Tanh(),\n",
    "    Linear(n_hidden, n_hidden), Tanh(),\n",
    "    Linear(n_hidden, n_hidden), Tanh(),\n",
    "    Linear(n_hidden, n_hidden), Tanh(),\n",
    "    Linear(n_hidden, n_hidden), Tanh(),\n",
    "    Linear(n_hidden, vocab_size)\n",
    "]\n",
    "\n",
    "with torch.no_grad():\n",
    "    #last layer: make less confident\n",
    "    layers[-1].weights *= 0.1\n",
    "    #all other layers: apply gain\n",
    "    for layer in layers[:-1]:\n",
    "        if isinstance(layer, Linear):\n",
    "            layer.weights *= 5/3 #gain for tanh\n",
    "\n",
    "parameters = [C] + [p for layer in layers for p in layer.parameters()]\n",
    "print(sum(p.nelement() for p in parameters))\n",
    "for p in parameters:\n",
    "    p.requires_grad = True"
   ]
  },
  {
   "cell_type": "code",
   "execution_count": null,
   "metadata": {},
   "outputs": [],
   "source": [
    "max_steps = 200000\n",
    "batch_size = 32\n",
    "lossi = []\n",
    "\n",
    "for i in range(max_steps):\n",
    "    #construct minibatch\n",
    "    ix = torch.randint(0, Xtr.shape[0], (batch_size,),generator=g)\n",
    "    Xb, Yb = Xtr[ix], Ytr[ix]\n",
    "\n",
    "    #forward pass\n",
    "    emb = C[Xb] #embed the characters into vectors\n",
    "    x = emb.view(emb.shape[0], -1) #concatenate the vectors for the multiple characters that we're taking for the context\n",
    "    for layer in layers:    #all the previous work is done by the layers now\n",
    "        x = layer(x)\n",
    "    loss = F.cross_entropy(x, Yb) \n",
    "\n",
    "    #backward pass\n",
    "    for layer in layers:\n",
    "        layer.out.retain_grad() #AFTER_DEB: take out retain_grad\n",
    "    for p in parameters:\n",
    "        p.grad = None\n",
    "    loss.backward()\n",
    "\n",
    "    #update\n",
    "    lr = 1e-1 if i < 100000 else 1e-2\n",
    "    for p in parameters:\n",
    "        p.data += -lr * p.grad\n",
    "\n",
    "    #track stats\n",
    "    if i % 10000 == 0:\n",
    "        print(f'{i:7d}/{max_steps:7d}: {loss.item():.4f}')\n",
    "    lossi.append(loss.log10().item())    \n",
    "\n",
    "    break #AFTER_DEBUG: take out the break"
   ]
  }
 ],
 "metadata": {
  "kernelspec": {
   "display_name": "Python 3",
   "language": "python",
   "name": "python3"
  },
  "language_info": {
   "codemirror_mode": {
    "name": "ipython",
    "version": 3
   },
   "file_extension": ".py",
   "mimetype": "text/x-python",
   "name": "python",
   "nbconvert_exporter": "python",
   "pygments_lexer": "ipython3",
   "version": "3.12.1"
  }
 },
 "nbformat": 4,
 "nbformat_minor": 2
}
